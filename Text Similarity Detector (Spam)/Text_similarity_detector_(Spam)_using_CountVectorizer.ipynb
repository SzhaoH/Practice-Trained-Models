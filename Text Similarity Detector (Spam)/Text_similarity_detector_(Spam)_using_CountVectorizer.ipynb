{
  "nbformat": 4,
  "nbformat_minor": 0,
  "metadata": {
    "colab": {
      "provenance": []
    },
    "kernelspec": {
      "name": "python3",
      "display_name": "Python 3"
    },
    "language_info": {
      "name": "python"
    }
  },
  "cells": [
    {
      "cell_type": "code",
      "execution_count": null,
      "metadata": {
        "id": "y5XV9xwpvsSA",
        "colab": {
          "base_uri": "https://localhost:8080/"
        },
        "outputId": "0dc469d6-0437-45a2-f617-8978a572a6ef"
      },
      "outputs": [
        {
          "output_type": "stream",
          "name": "stdout",
          "text": [
            "Mounted at /content/drive/\n"
          ]
        }
      ],
      "source": [
        "from google.colab import drive\n",
        "drive.mount('/content/drive/')"
      ]
    },
    {
      "cell_type": "markdown",
      "source": [
        "**Spam text in many times**"
      ],
      "metadata": {
        "id": "BTymuVtRYblV"
      }
    },
    {
      "cell_type": "code",
      "source": [
        "from sklearn.feature_extraction.text import CountVectorizer\n",
        "import nltk\n",
        "nltk.download('stopwords')\n",
        "from nltk.tokenize import word_tokenize\n",
        "import nltk\n",
        "nltk.download('punkt')\n",
        "import re\n",
        "from sklearn.metrics.pairwise import cosine_similarity"
      ],
      "metadata": {
        "colab": {
          "base_uri": "https://localhost:8080/"
        },
        "id": "Of9s1vQUYmzS",
        "outputId": "a0e1cb36-68f8-421e-c5c0-f017f67830af"
      },
      "execution_count": null,
      "outputs": [
        {
          "output_type": "stream",
          "name": "stdout",
          "text": [
            "[nltk_data] Downloading package stopwords to /root/nltk_data...\n",
            "[nltk_data]   Package stopwords is already up-to-date!\n",
            "[nltk_data] Downloading package punkt to /root/nltk_data...\n",
            "[nltk_data]   Package punkt is already up-to-date!\n"
          ]
        }
      ]
    },
    {
      "cell_type": "code",
      "source": [
        "corpus = ['This is the first document that i love.','This is the first document that i love too.','This is the first document that i love too.','This is the first document that i love too.','This is the first second third','This is the first document that i love too.','This is second document that i hate','This is the first document that i love too.','First document','This is the first document that i love too.''This is second document that i hate']\n",
        "df = pd.DataFrame(corpus,columns=['doc'])\n",
        "df"
      ],
      "metadata": {
        "colab": {
          "base_uri": "https://localhost:8080/",
          "height": 363
        },
        "id": "unX1KOTiYa1g",
        "outputId": "d38ee675-d63d-481c-a7d7-8e683de0eab3"
      },
      "execution_count": null,
      "outputs": [
        {
          "output_type": "execute_result",
          "data": {
            "text/plain": [
              "                                                 doc\n",
              "0            This is the first document that i love.\n",
              "1        This is the first document that i love too.\n",
              "2        This is the first document that i love too.\n",
              "3        This is the first document that i love too.\n",
              "4                     This is the first second third\n",
              "5        This is the first document that i love too.\n",
              "6                This is second document that i hate\n",
              "7        This is the first document that i love too.\n",
              "8                                     First document\n",
              "9  This is the first document that i love too.Thi..."
            ],
            "text/html": [
              "\n",
              "  <div id=\"df-703ab900-0043-41e1-817d-858c0c5ce3f2\">\n",
              "    <div class=\"colab-df-container\">\n",
              "      <div>\n",
              "<style scoped>\n",
              "    .dataframe tbody tr th:only-of-type {\n",
              "        vertical-align: middle;\n",
              "    }\n",
              "\n",
              "    .dataframe tbody tr th {\n",
              "        vertical-align: top;\n",
              "    }\n",
              "\n",
              "    .dataframe thead th {\n",
              "        text-align: right;\n",
              "    }\n",
              "</style>\n",
              "<table border=\"1\" class=\"dataframe\">\n",
              "  <thead>\n",
              "    <tr style=\"text-align: right;\">\n",
              "      <th></th>\n",
              "      <th>doc</th>\n",
              "    </tr>\n",
              "  </thead>\n",
              "  <tbody>\n",
              "    <tr>\n",
              "      <th>0</th>\n",
              "      <td>This is the first document that i love.</td>\n",
              "    </tr>\n",
              "    <tr>\n",
              "      <th>1</th>\n",
              "      <td>This is the first document that i love too.</td>\n",
              "    </tr>\n",
              "    <tr>\n",
              "      <th>2</th>\n",
              "      <td>This is the first document that i love too.</td>\n",
              "    </tr>\n",
              "    <tr>\n",
              "      <th>3</th>\n",
              "      <td>This is the first document that i love too.</td>\n",
              "    </tr>\n",
              "    <tr>\n",
              "      <th>4</th>\n",
              "      <td>This is the first second third</td>\n",
              "    </tr>\n",
              "    <tr>\n",
              "      <th>5</th>\n",
              "      <td>This is the first document that i love too.</td>\n",
              "    </tr>\n",
              "    <tr>\n",
              "      <th>6</th>\n",
              "      <td>This is second document that i hate</td>\n",
              "    </tr>\n",
              "    <tr>\n",
              "      <th>7</th>\n",
              "      <td>This is the first document that i love too.</td>\n",
              "    </tr>\n",
              "    <tr>\n",
              "      <th>8</th>\n",
              "      <td>First document</td>\n",
              "    </tr>\n",
              "    <tr>\n",
              "      <th>9</th>\n",
              "      <td>This is the first document that i love too.Thi...</td>\n",
              "    </tr>\n",
              "  </tbody>\n",
              "</table>\n",
              "</div>\n",
              "      <button class=\"colab-df-convert\" onclick=\"convertToInteractive('df-703ab900-0043-41e1-817d-858c0c5ce3f2')\"\n",
              "              title=\"Convert this dataframe to an interactive table.\"\n",
              "              style=\"display:none;\">\n",
              "        \n",
              "  <svg xmlns=\"http://www.w3.org/2000/svg\" height=\"24px\"viewBox=\"0 0 24 24\"\n",
              "       width=\"24px\">\n",
              "    <path d=\"M0 0h24v24H0V0z\" fill=\"none\"/>\n",
              "    <path d=\"M18.56 5.44l.94 2.06.94-2.06 2.06-.94-2.06-.94-.94-2.06-.94 2.06-2.06.94zm-11 1L8.5 8.5l.94-2.06 2.06-.94-2.06-.94L8.5 2.5l-.94 2.06-2.06.94zm10 10l.94 2.06.94-2.06 2.06-.94-2.06-.94-.94-2.06-.94 2.06-2.06.94z\"/><path d=\"M17.41 7.96l-1.37-1.37c-.4-.4-.92-.59-1.43-.59-.52 0-1.04.2-1.43.59L10.3 9.45l-7.72 7.72c-.78.78-.78 2.05 0 2.83L4 21.41c.39.39.9.59 1.41.59.51 0 1.02-.2 1.41-.59l7.78-7.78 2.81-2.81c.8-.78.8-2.07 0-2.86zM5.41 20L4 18.59l7.72-7.72 1.47 1.35L5.41 20z\"/>\n",
              "  </svg>\n",
              "      </button>\n",
              "      \n",
              "  <style>\n",
              "    .colab-df-container {\n",
              "      display:flex;\n",
              "      flex-wrap:wrap;\n",
              "      gap: 12px;\n",
              "    }\n",
              "\n",
              "    .colab-df-convert {\n",
              "      background-color: #E8F0FE;\n",
              "      border: none;\n",
              "      border-radius: 50%;\n",
              "      cursor: pointer;\n",
              "      display: none;\n",
              "      fill: #1967D2;\n",
              "      height: 32px;\n",
              "      padding: 0 0 0 0;\n",
              "      width: 32px;\n",
              "    }\n",
              "\n",
              "    .colab-df-convert:hover {\n",
              "      background-color: #E2EBFA;\n",
              "      box-shadow: 0px 1px 2px rgba(60, 64, 67, 0.3), 0px 1px 3px 1px rgba(60, 64, 67, 0.15);\n",
              "      fill: #174EA6;\n",
              "    }\n",
              "\n",
              "    [theme=dark] .colab-df-convert {\n",
              "      background-color: #3B4455;\n",
              "      fill: #D2E3FC;\n",
              "    }\n",
              "\n",
              "    [theme=dark] .colab-df-convert:hover {\n",
              "      background-color: #434B5C;\n",
              "      box-shadow: 0px 1px 3px 1px rgba(0, 0, 0, 0.15);\n",
              "      filter: drop-shadow(0px 1px 2px rgba(0, 0, 0, 0.3));\n",
              "      fill: #FFFFFF;\n",
              "    }\n",
              "  </style>\n",
              "\n",
              "      <script>\n",
              "        const buttonEl =\n",
              "          document.querySelector('#df-703ab900-0043-41e1-817d-858c0c5ce3f2 button.colab-df-convert');\n",
              "        buttonEl.style.display =\n",
              "          google.colab.kernel.accessAllowed ? 'block' : 'none';\n",
              "\n",
              "        async function convertToInteractive(key) {\n",
              "          const element = document.querySelector('#df-703ab900-0043-41e1-817d-858c0c5ce3f2');\n",
              "          const dataTable =\n",
              "            await google.colab.kernel.invokeFunction('convertToInteractive',\n",
              "                                                     [key], {});\n",
              "          if (!dataTable) return;\n",
              "\n",
              "          const docLinkHtml = 'Like what you see? Visit the ' +\n",
              "            '<a target=\"_blank\" href=https://colab.research.google.com/notebooks/data_table.ipynb>data table notebook</a>'\n",
              "            + ' to learn more about interactive tables.';\n",
              "          element.innerHTML = '';\n",
              "          dataTable['output_type'] = 'display_data';\n",
              "          await google.colab.output.renderOutput(dataTable, element);\n",
              "          const docLink = document.createElement('div');\n",
              "          docLink.innerHTML = docLinkHtml;\n",
              "          element.appendChild(docLink);\n",
              "        }\n",
              "      </script>\n",
              "    </div>\n",
              "  </div>\n",
              "  "
            ]
          },
          "metadata": {},
          "execution_count": 130
        }
      ]
    },
    {
      "cell_type": "code",
      "source": [
        "## Lower Casing\n",
        "df['doc'] = df['doc'].str.lower()\n",
        "\n",
        "## Removal of Puctuations\n",
        "import string\n",
        "PUNCT_TO_REMOVE = string.punctuation\n",
        "df['doc'] = df['doc'].str.replace('[^\\w\\s]',' ')\n",
        "# Removal of Stopwords\n",
        "from nltk.corpus import stopwords\n",
        "STOPWORDS = set(stopwords.words('english'))\n",
        "def remove_stopwords(text):\n",
        "    \"\"\"custom function to remove the stopwords\"\"\"\n",
        "    return \" \".join([word for word in str(text).split() if word not in STOPWORDS])\n",
        "#df['doc'] = df['doc'].apply(lambda text: remove_stopwords(text))\n",
        "#Cleaning URL\n",
        "def remove_urls(text):\n",
        "    url_pattern = re.compile(r'https?://\\S+|www\\.\\S+')\n",
        "    return url_pattern.sub(r'', text)\n",
        "df['doc'] = df['doc'].apply(lambda text: remove_urls(text))\n",
        "\n",
        "#for i in range(len(corpus)):\n",
        "  #corpus[i] = corpus[i].lower()\n",
        "  #corpus[i] = re.sub(r'[^\\w\\s]', '', corpus[i])\n",
        "  #text_tokens = word_tokenize(corpus[i])\n",
        "  #corpus[i] = [word for word in text_tokens if not word in stopwords.words()]\n",
        "\n",
        "#corpus"
      ],
      "metadata": {
        "colab": {
          "base_uri": "https://localhost:8080/"
        },
        "id": "X4GMH6GnZ5wa",
        "outputId": "c3b13202-af6d-4f41-a8d7-809177de96e7"
      },
      "execution_count": null,
      "outputs": [
        {
          "output_type": "stream",
          "name": "stderr",
          "text": [
            "/usr/local/lib/python3.7/dist-packages/ipykernel_launcher.py:7: FutureWarning: The default value of regex will change from True to False in a future version.\n",
            "  import sys\n"
          ]
        }
      ]
    },
    {
      "cell_type": "code",
      "source": [
        "df"
      ],
      "metadata": {
        "colab": {
          "base_uri": "https://localhost:8080/",
          "height": 363
        },
        "id": "hXdV1VftbYar",
        "outputId": "346d8e74-4752-4dfa-eaf2-2f059637c9f9"
      },
      "execution_count": null,
      "outputs": [
        {
          "output_type": "execute_result",
          "data": {
            "text/plain": [
              "                                                 doc\n",
              "0            this is the first document that i love \n",
              "1        this is the first document that i love too \n",
              "2        this is the first document that i love too \n",
              "3        this is the first document that i love too \n",
              "4                     this is the first second third\n",
              "5        this is the first document that i love too \n",
              "6                this is second document that i hate\n",
              "7        this is the first document that i love too \n",
              "8                                     first document\n",
              "9  this is the first document that i love too thi..."
            ],
            "text/html": [
              "\n",
              "  <div id=\"df-55c1e945-6e19-4aea-98d0-a2171a8615ef\">\n",
              "    <div class=\"colab-df-container\">\n",
              "      <div>\n",
              "<style scoped>\n",
              "    .dataframe tbody tr th:only-of-type {\n",
              "        vertical-align: middle;\n",
              "    }\n",
              "\n",
              "    .dataframe tbody tr th {\n",
              "        vertical-align: top;\n",
              "    }\n",
              "\n",
              "    .dataframe thead th {\n",
              "        text-align: right;\n",
              "    }\n",
              "</style>\n",
              "<table border=\"1\" class=\"dataframe\">\n",
              "  <thead>\n",
              "    <tr style=\"text-align: right;\">\n",
              "      <th></th>\n",
              "      <th>doc</th>\n",
              "    </tr>\n",
              "  </thead>\n",
              "  <tbody>\n",
              "    <tr>\n",
              "      <th>0</th>\n",
              "      <td>this is the first document that i love</td>\n",
              "    </tr>\n",
              "    <tr>\n",
              "      <th>1</th>\n",
              "      <td>this is the first document that i love too</td>\n",
              "    </tr>\n",
              "    <tr>\n",
              "      <th>2</th>\n",
              "      <td>this is the first document that i love too</td>\n",
              "    </tr>\n",
              "    <tr>\n",
              "      <th>3</th>\n",
              "      <td>this is the first document that i love too</td>\n",
              "    </tr>\n",
              "    <tr>\n",
              "      <th>4</th>\n",
              "      <td>this is the first second third</td>\n",
              "    </tr>\n",
              "    <tr>\n",
              "      <th>5</th>\n",
              "      <td>this is the first document that i love too</td>\n",
              "    </tr>\n",
              "    <tr>\n",
              "      <th>6</th>\n",
              "      <td>this is second document that i hate</td>\n",
              "    </tr>\n",
              "    <tr>\n",
              "      <th>7</th>\n",
              "      <td>this is the first document that i love too</td>\n",
              "    </tr>\n",
              "    <tr>\n",
              "      <th>8</th>\n",
              "      <td>first document</td>\n",
              "    </tr>\n",
              "    <tr>\n",
              "      <th>9</th>\n",
              "      <td>this is the first document that i love too thi...</td>\n",
              "    </tr>\n",
              "  </tbody>\n",
              "</table>\n",
              "</div>\n",
              "      <button class=\"colab-df-convert\" onclick=\"convertToInteractive('df-55c1e945-6e19-4aea-98d0-a2171a8615ef')\"\n",
              "              title=\"Convert this dataframe to an interactive table.\"\n",
              "              style=\"display:none;\">\n",
              "        \n",
              "  <svg xmlns=\"http://www.w3.org/2000/svg\" height=\"24px\"viewBox=\"0 0 24 24\"\n",
              "       width=\"24px\">\n",
              "    <path d=\"M0 0h24v24H0V0z\" fill=\"none\"/>\n",
              "    <path d=\"M18.56 5.44l.94 2.06.94-2.06 2.06-.94-2.06-.94-.94-2.06-.94 2.06-2.06.94zm-11 1L8.5 8.5l.94-2.06 2.06-.94-2.06-.94L8.5 2.5l-.94 2.06-2.06.94zm10 10l.94 2.06.94-2.06 2.06-.94-2.06-.94-.94-2.06-.94 2.06-2.06.94z\"/><path d=\"M17.41 7.96l-1.37-1.37c-.4-.4-.92-.59-1.43-.59-.52 0-1.04.2-1.43.59L10.3 9.45l-7.72 7.72c-.78.78-.78 2.05 0 2.83L4 21.41c.39.39.9.59 1.41.59.51 0 1.02-.2 1.41-.59l7.78-7.78 2.81-2.81c.8-.78.8-2.07 0-2.86zM5.41 20L4 18.59l7.72-7.72 1.47 1.35L5.41 20z\"/>\n",
              "  </svg>\n",
              "      </button>\n",
              "      \n",
              "  <style>\n",
              "    .colab-df-container {\n",
              "      display:flex;\n",
              "      flex-wrap:wrap;\n",
              "      gap: 12px;\n",
              "    }\n",
              "\n",
              "    .colab-df-convert {\n",
              "      background-color: #E8F0FE;\n",
              "      border: none;\n",
              "      border-radius: 50%;\n",
              "      cursor: pointer;\n",
              "      display: none;\n",
              "      fill: #1967D2;\n",
              "      height: 32px;\n",
              "      padding: 0 0 0 0;\n",
              "      width: 32px;\n",
              "    }\n",
              "\n",
              "    .colab-df-convert:hover {\n",
              "      background-color: #E2EBFA;\n",
              "      box-shadow: 0px 1px 2px rgba(60, 64, 67, 0.3), 0px 1px 3px 1px rgba(60, 64, 67, 0.15);\n",
              "      fill: #174EA6;\n",
              "    }\n",
              "\n",
              "    [theme=dark] .colab-df-convert {\n",
              "      background-color: #3B4455;\n",
              "      fill: #D2E3FC;\n",
              "    }\n",
              "\n",
              "    [theme=dark] .colab-df-convert:hover {\n",
              "      background-color: #434B5C;\n",
              "      box-shadow: 0px 1px 3px 1px rgba(0, 0, 0, 0.15);\n",
              "      filter: drop-shadow(0px 1px 2px rgba(0, 0, 0, 0.3));\n",
              "      fill: #FFFFFF;\n",
              "    }\n",
              "  </style>\n",
              "\n",
              "      <script>\n",
              "        const buttonEl =\n",
              "          document.querySelector('#df-55c1e945-6e19-4aea-98d0-a2171a8615ef button.colab-df-convert');\n",
              "        buttonEl.style.display =\n",
              "          google.colab.kernel.accessAllowed ? 'block' : 'none';\n",
              "\n",
              "        async function convertToInteractive(key) {\n",
              "          const element = document.querySelector('#df-55c1e945-6e19-4aea-98d0-a2171a8615ef');\n",
              "          const dataTable =\n",
              "            await google.colab.kernel.invokeFunction('convertToInteractive',\n",
              "                                                     [key], {});\n",
              "          if (!dataTable) return;\n",
              "\n",
              "          const docLinkHtml = 'Like what you see? Visit the ' +\n",
              "            '<a target=\"_blank\" href=https://colab.research.google.com/notebooks/data_table.ipynb>data table notebook</a>'\n",
              "            + ' to learn more about interactive tables.';\n",
              "          element.innerHTML = '';\n",
              "          dataTable['output_type'] = 'display_data';\n",
              "          await google.colab.output.renderOutput(dataTable, element);\n",
              "          const docLink = document.createElement('div');\n",
              "          docLink.innerHTML = docLinkHtml;\n",
              "          element.appendChild(docLink);\n",
              "        }\n",
              "      </script>\n",
              "    </div>\n",
              "  </div>\n",
              "  "
            ]
          },
          "metadata": {},
          "execution_count": 132
        }
      ]
    },
    {
      "cell_type": "code",
      "source": [
        "vectorizer = CountVectorizer()#analyzer='word', ngram_range=(1, 3)\n",
        "count_matrix = vectorizer.fit_transform(df['doc'])\n",
        "cosine_similarities = cosine_similarity(count_matrix, count_matrix)"
      ],
      "metadata": {
        "id": "Q1ikEbS4YvDu"
      },
      "execution_count": null,
      "outputs": []
    },
    {
      "cell_type": "code",
      "source": [
        "cosine_similarities"
      ],
      "metadata": {
        "colab": {
          "base_uri": "https://localhost:8080/"
        },
        "id": "rMjvesCGf0TG",
        "outputId": "4f5e08bb-e283-414d-fbf2-a81bf90db7e9"
      },
      "execution_count": null,
      "outputs": [
        {
          "output_type": "execute_result",
          "data": {
            "text/plain": [
              "array([[1.        , 0.93541435, 0.93541435, 0.93541435, 0.6172134 ,\n",
              "        0.93541435, 0.6172134 , 0.93541435, 0.53452248, 0.88640526],\n",
              "       [0.93541435, 1.        , 1.        , 1.        , 0.57735027,\n",
              "        1.        , 0.57735027, 1.        , 0.5       , 0.90453403],\n",
              "       [0.93541435, 1.        , 1.        , 1.        , 0.57735027,\n",
              "        1.        , 0.57735027, 1.        , 0.5       , 0.90453403],\n",
              "       [0.93541435, 1.        , 1.        , 1.        , 0.57735027,\n",
              "        1.        , 0.57735027, 1.        , 0.5       , 0.90453403],\n",
              "       [0.6172134 , 0.57735027, 0.57735027, 0.57735027, 1.        ,\n",
              "        0.57735027, 0.5       , 0.57735027, 0.28867513, 0.6092718 ],\n",
              "       [0.93541435, 1.        , 1.        , 1.        , 0.57735027,\n",
              "        1.        , 0.57735027, 1.        , 0.5       , 0.90453403],\n",
              "       [0.6172134 , 0.57735027, 0.57735027, 0.57735027, 0.5       ,\n",
              "        0.57735027, 1.        , 0.57735027, 0.28867513, 0.87038828],\n",
              "       [0.93541435, 1.        , 1.        , 1.        , 0.57735027,\n",
              "        1.        , 0.57735027, 1.        , 0.5       , 0.90453403],\n",
              "       [0.53452248, 0.5       , 0.5       , 0.5       , 0.28867513,\n",
              "        0.5       , 0.28867513, 0.5       , 1.        , 0.45226702],\n",
              "       [0.88640526, 0.90453403, 0.90453403, 0.90453403, 0.6092718 ,\n",
              "        0.90453403, 0.87038828, 0.90453403, 0.45226702, 1.        ]])"
            ]
          },
          "metadata": {},
          "execution_count": 134
        }
      ]
    },
    {
      "cell_type": "code",
      "source": [
        "spam_score =0\n",
        "for i in range(1,len(df)):\n",
        "  if (cosine_similarities[0][i]>=0.75):\n",
        "    spam_score =spam_score+1\n",
        "    print('score:',spam_score,'and', 'Text',i, ' is a spam')\n",
        "    if spam_score ==5:\n",
        "      print('you are spamming')\n",
        "      break\n",
        "  else:\n",
        "    print( i, ' is not a spam')\n",
        "    spam_score = 0\n",
        "    break"
      ],
      "metadata": {
        "colab": {
          "base_uri": "https://localhost:8080/"
        },
        "id": "XfSmXzxofKJn",
        "outputId": "591a194a-abfc-49b9-9d61-8175c12bf234"
      },
      "execution_count": null,
      "outputs": [
        {
          "output_type": "stream",
          "name": "stdout",
          "text": [
            "score: 1 and Text 1  is a spam\n",
            "score: 2 and Text 2  is a spam\n",
            "score: 3 and Text 3  is a spam\n",
            "4  is not a spam\n"
          ]
        }
      ]
    },
    {
      "cell_type": "markdown",
      "source": [
        "**Whole Function**"
      ],
      "metadata": {
        "id": "z6uhVDp8M2fL"
      }
    },
    {
      "cell_type": "code",
      "source": [
        "corpus1 = ['This is the first document that i love.','This is the first document that i love too.']\n",
        "spam_score =0\n",
        "def find_spam(spam_score):\n",
        "  df = pd.DataFrame(corpus1,columns=['doc'])\n",
        "  df['doc'] = df['doc'].str.lower()\n",
        "  PUNCT_TO_REMOVE = string.punctuation\n",
        "  df['doc'] = df['doc'].str.replace('[^\\w\\s]',' ')\n",
        "  STOPWORDS = set(stopwords.words('english'))\n",
        "  df['doc'] = df['doc'].apply(lambda text: remove_urls(text))\n",
        "  vectorizer = CountVectorizer()\n",
        "  count_matrix = vectorizer.fit_transform(df['doc'])\n",
        "  cosine_similarities = cosine_similarity(count_matrix, count_matrix)\n",
        "  for i in range(1,len(df)):\n",
        "    if (cosine_similarities[0][i]>=0.75):\n",
        "      spam_score =spam_score+1\n",
        "      print('score:',spam_score,'and', 'Text',i, ' is a spam')\n",
        "      if spam_score ==5:\n",
        "        print('you are spamming')\n",
        "        spam_score = 0\n",
        "        return spam_score\n",
        "        break\n",
        "    else:\n",
        "      print('score:',spam_score,'and', 'Text', i, ' is not a spam')\n",
        "      spam_score = 0\n",
        "      break\n",
        "  return spam_score\n",
        "spam_score = find_spam(spam_score)"
      ],
      "metadata": {
        "colab": {
          "base_uri": "https://localhost:8080/"
        },
        "id": "jC_vB3ZrlEyi",
        "outputId": "9bd24d61-bd4a-4653-ca41-30b56851011b"
      },
      "execution_count": null,
      "outputs": [
        {
          "output_type": "stream",
          "name": "stdout",
          "text": [
            "score: 1 and Text 1  is a spam\n"
          ]
        },
        {
          "output_type": "stream",
          "name": "stderr",
          "text": [
            "/usr/local/lib/python3.7/dist-packages/ipykernel_launcher.py:7: FutureWarning: The default value of regex will change from True to False in a future version.\n",
            "  import sys\n"
          ]
        }
      ]
    },
    {
      "cell_type": "markdown",
      "source": [
        "**Testing**"
      ],
      "metadata": {
        "id": "u8mcAQdzM7nV"
      }
    },
    {
      "cell_type": "code",
      "source": [
        "corpus2 = 'This is the first document that i love too.'\n",
        "\n",
        "def new_text (spam_score,new_corpus):\n",
        "  corpus1.pop(0)\n",
        "  corpus1.append(new_corpus)\n",
        "  spam_score = find_spam(spam_score)\n",
        "  return spam_score\n",
        "spam_score= new_text(spam_score,corpus2)\n"
      ],
      "metadata": {
        "colab": {
          "base_uri": "https://localhost:8080/"
        },
        "id": "NbWMi48Jld3r",
        "outputId": "2f6eca0d-f2e2-4988-b146-6111913bf619"
      },
      "execution_count": null,
      "outputs": [
        {
          "output_type": "stream",
          "name": "stdout",
          "text": [
            "1  is not a spam\n"
          ]
        },
        {
          "output_type": "stream",
          "name": "stderr",
          "text": [
            "/usr/local/lib/python3.7/dist-packages/ipykernel_launcher.py:7: FutureWarning: The default value of regex will change from True to False in a future version.\n",
            "  import sys\n"
          ]
        }
      ]
    },
    {
      "cell_type": "code",
      "source": [
        "corpus3 = 'This is the first doc that i hate too.'\n",
        "spam_score= new_text(spam_score,corpus3)"
      ],
      "metadata": {
        "colab": {
          "base_uri": "https://localhost:8080/"
        },
        "id": "0GNl3tBspZ73",
        "outputId": "a26fa2ab-4beb-42e7-9771-61078ee3c4bb"
      },
      "execution_count": null,
      "outputs": [
        {
          "output_type": "stream",
          "name": "stdout",
          "text": [
            "score: 2 and Text 1  is a spam\n"
          ]
        },
        {
          "output_type": "stream",
          "name": "stderr",
          "text": [
            "/usr/local/lib/python3.7/dist-packages/ipykernel_launcher.py:7: FutureWarning: The default value of regex will change from True to False in a future version.\n",
            "  import sys\n"
          ]
        }
      ]
    }
  ]
}